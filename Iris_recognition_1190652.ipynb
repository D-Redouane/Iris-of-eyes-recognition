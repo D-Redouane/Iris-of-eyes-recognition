{
 "cells": [
  {
   "cell_type": "markdown",
   "id": "bef574f7",
   "metadata": {
    "papermill": {
     "duration": 0.008815,
     "end_time": "2024-04-23T21:41:06.682342",
     "exception": false,
     "start_time": "2024-04-23T21:41:06.673527",
     "status": "completed"
    },
    "tags": []
   },
   "source": [
    "<p>Department Of Computer Science\n",
    "\n",
    "COMP432, COMPUTER SECURITY\n",
    "\n",
    "Dr. Mohammad Alkhanafse\n",
    "\n",
    "Section 2\n",
    "\n",
    "</p>\n",
    "\n",
    "<div align=\"center\">\n",
    "\n",
    "<img src=\"https://github.com/sondosaabed/Introducing-Generative-AI-with-AWS/assets/65151701/01485d19-c6d6-4072-99d7-178ea8ec4364\" alt=\"Birzeit University Logo\" height=\"170px\">\n",
    "\n",
    "\n",
    "# Iris eye Recognition\n",
    "\n",
    "A Biometric Authentication system using Iris\n",
    "\n",
    "</div>\n",
    "\n",
    "<b>Prepared by:</b> Sondos Aabed\n",
    "\n",
    "<b>Studnet ID:</b> 1190652\n",
    "\n",
    "<hr>"
   ]
  },
  {
   "cell_type": "markdown",
   "id": "0ce7deb9",
   "metadata": {
    "papermill": {
     "duration": 0.007755,
     "end_time": "2024-04-23T21:41:06.698237",
     "exception": false,
     "start_time": "2024-04-23T21:41:06.690482",
     "status": "completed"
    },
    "tags": []
   },
   "source": [
    "## Abstract\n",
    "\n",
    "<hr>"
   ]
  },
  {
   "cell_type": "markdown",
   "id": "7bcd1e9b",
   "metadata": {
    "papermill": {
     "duration": 0.007822,
     "end_time": "2024-04-23T21:41:06.714638",
     "exception": false,
     "start_time": "2024-04-23T21:41:06.706816",
     "status": "completed"
    },
    "tags": []
   },
   "source": [
    "## Table of Contents\n",
    "\n",
    "## List of Figures\n",
    "\n",
    "## List of Tables\n",
    "\n",
    "<hr>"
   ]
  },
  {
   "cell_type": "markdown",
   "id": "d2db8af9",
   "metadata": {
    "papermill": {
     "duration": 0.007427,
     "end_time": "2024-04-23T21:41:06.729967",
     "exception": false,
     "start_time": "2024-04-23T21:41:06.722540",
     "status": "completed"
    },
    "tags": []
   },
   "source": [
    "## Introduction"
   ]
  },
  {
   "cell_type": "markdown",
   "id": "636a019a",
   "metadata": {
    "papermill": {
     "duration": 0.007576,
     "end_time": "2024-04-23T21:41:06.745337",
     "exception": false,
     "start_time": "2024-04-23T21:41:06.737761",
     "status": "completed"
    },
    "tags": []
   },
   "source": [
    "### Aim and Objectives"
   ]
  },
  {
   "cell_type": "markdown",
   "id": "b8756535",
   "metadata": {
    "papermill": {
     "duration": 0.007322,
     "end_time": "2024-04-23T21:41:06.760613",
     "exception": false,
     "start_time": "2024-04-23T21:41:06.753291",
     "status": "completed"
    },
    "tags": []
   },
   "source": [
    "### About Dataset used"
   ]
  },
  {
   "cell_type": "markdown",
   "id": "cd8a6b85",
   "metadata": {
    "papermill": {
     "duration": 0.007409,
     "end_time": "2024-04-23T21:41:06.777144",
     "exception": false,
     "start_time": "2024-04-23T21:41:06.769735",
     "status": "completed"
    },
    "tags": []
   },
   "source": [
    "### Methodogly \n",
    "\n",
    "<hr>"
   ]
  },
  {
   "cell_type": "markdown",
   "id": "50313c99",
   "metadata": {
    "papermill": {
     "duration": 0.007695,
     "end_time": "2024-04-23T21:41:06.792459",
     "exception": false,
     "start_time": "2024-04-23T21:41:06.784764",
     "status": "completed"
    },
    "tags": []
   },
   "source": [
    "## Theory"
   ]
  },
  {
   "cell_type": "markdown",
   "id": "2f74584a",
   "metadata": {
    "papermill": {
     "duration": 0.007322,
     "end_time": "2024-04-23T21:41:06.807488",
     "exception": false,
     "start_time": "2024-04-23T21:41:06.800166",
     "status": "completed"
    },
    "tags": []
   },
   "source": [
    "<hr>"
   ]
  },
  {
   "cell_type": "markdown",
   "id": "e88d7f78",
   "metadata": {
    "papermill": {
     "duration": 0.007757,
     "end_time": "2024-04-23T21:41:06.822917",
     "exception": false,
     "start_time": "2024-04-23T21:41:06.815160",
     "status": "completed"
    },
    "tags": []
   },
   "source": [
    "## Software Listing"
   ]
  },
  {
   "cell_type": "markdown",
   "id": "1e3b64b6",
   "metadata": {
    "papermill": {
     "duration": 0.007413,
     "end_time": "2024-04-23T21:41:06.838452",
     "exception": false,
     "start_time": "2024-04-23T21:41:06.831039",
     "status": "completed"
    },
    "tags": []
   },
   "source": [
    "<hr>"
   ]
  },
  {
   "cell_type": "markdown",
   "id": "7d93ae74",
   "metadata": {
    "papermill": {
     "duration": 0.007239,
     "end_time": "2024-04-23T21:41:06.853344",
     "exception": false,
     "start_time": "2024-04-23T21:41:06.846105",
     "status": "completed"
    },
    "tags": []
   },
   "source": [
    "## Implemetation"
   ]
  },
  {
   "cell_type": "markdown",
   "id": "c4de8727",
   "metadata": {
    "papermill": {
     "duration": 0.007335,
     "end_time": "2024-04-23T21:41:06.868272",
     "exception": false,
     "start_time": "2024-04-23T21:41:06.860937",
     "status": "completed"
    },
    "tags": []
   },
   "source": [
    "<hr>"
   ]
  },
  {
   "cell_type": "markdown",
   "id": "5817816b",
   "metadata": {
    "papermill": {
     "duration": 0.007366,
     "end_time": "2024-04-23T21:41:06.883772",
     "exception": false,
     "start_time": "2024-04-23T21:41:06.876406",
     "status": "completed"
    },
    "tags": []
   },
   "source": [
    "### Dataset Analysis"
   ]
  },
  {
   "cell_type": "markdown",
   "id": "b9096310",
   "metadata": {
    "papermill": {
     "duration": 0.007571,
     "end_time": "2024-04-23T21:41:06.899244",
     "exception": false,
     "start_time": "2024-04-23T21:41:06.891673",
     "status": "completed"
    },
    "tags": []
   },
   "source": [
    "#### Loading Dataset"
   ]
  },
  {
   "cell_type": "code",
   "execution_count": 1,
   "id": "84d31877",
   "metadata": {
    "execution": {
     "iopub.execute_input": "2024-04-23T21:41:06.916904Z",
     "iopub.status.busy": "2024-04-23T21:41:06.915713Z",
     "iopub.status.idle": "2024-04-23T21:41:06.929628Z",
     "shell.execute_reply": "2024-04-23T21:41:06.928667Z"
    },
    "papermill": {
     "duration": 0.025336,
     "end_time": "2024-04-23T21:41:06.932249",
     "exception": false,
     "start_time": "2024-04-23T21:41:06.906913",
     "status": "completed"
    },
    "tags": []
   },
   "outputs": [],
   "source": [
    "def load_dataset(path):\n",
    "    \"\"\"\n",
    "    \n",
    "    \"\"\""
   ]
  },
  {
   "cell_type": "markdown",
   "id": "b58bfaff",
   "metadata": {
    "papermill": {
     "duration": 0.007705,
     "end_time": "2024-04-23T21:41:06.947922",
     "exception": false,
     "start_time": "2024-04-23T21:41:06.940217",
     "status": "completed"
    },
    "tags": []
   },
   "source": [
    "#### Expolring Dataset"
   ]
  },
  {
   "cell_type": "code",
   "execution_count": 2,
   "id": "ac4b6ad1",
   "metadata": {
    "execution": {
     "iopub.execute_input": "2024-04-23T21:41:06.966661Z",
     "iopub.status.busy": "2024-04-23T21:41:06.965962Z",
     "iopub.status.idle": "2024-04-23T21:41:06.971372Z",
     "shell.execute_reply": "2024-04-23T21:41:06.970349Z"
    },
    "papermill": {
     "duration": 0.016905,
     "end_time": "2024-04-23T21:41:06.973600",
     "exception": false,
     "start_time": "2024-04-23T21:41:06.956695",
     "status": "completed"
    },
    "tags": []
   },
   "outputs": [],
   "source": [
    "def explore_dataset(df):\n",
    "    \"\"\"\n",
    "    \n",
    "    \"\"\""
   ]
  },
  {
   "cell_type": "markdown",
   "id": "e1e0ced0",
   "metadata": {
    "papermill": {
     "duration": 0.00765,
     "end_time": "2024-04-23T21:41:06.989448",
     "exception": false,
     "start_time": "2024-04-23T21:41:06.981798",
     "status": "completed"
    },
    "tags": []
   },
   "source": [
    "#### Preparing Dataset"
   ]
  },
  {
   "cell_type": "markdown",
   "id": "9d943ebf",
   "metadata": {
    "papermill": {
     "duration": 0.007363,
     "end_time": "2024-04-23T21:41:07.004796",
     "exception": false,
     "start_time": "2024-04-23T21:41:06.997433",
     "status": "completed"
    },
    "tags": []
   },
   "source": [
    "##### Images preparing"
   ]
  },
  {
   "cell_type": "code",
   "execution_count": 3,
   "id": "48b73faa",
   "metadata": {
    "execution": {
     "iopub.execute_input": "2024-04-23T21:41:07.023030Z",
     "iopub.status.busy": "2024-04-23T21:41:07.022381Z",
     "iopub.status.idle": "2024-04-23T21:41:07.027032Z",
     "shell.execute_reply": "2024-04-23T21:41:07.026251Z"
    },
    "papermill": {
     "duration": 0.016527,
     "end_time": "2024-04-23T21:41:07.029188",
     "exception": false,
     "start_time": "2024-04-23T21:41:07.012661",
     "status": "completed"
    },
    "tags": []
   },
   "outputs": [],
   "source": [
    "def preprocess_images(df):\n",
    "    \"\"\"\n",
    "    \n",
    "    \"\"\""
   ]
  },
  {
   "cell_type": "markdown",
   "id": "14b7db53",
   "metadata": {
    "papermill": {
     "duration": 0.007539,
     "end_time": "2024-04-23T21:41:07.044651",
     "exception": false,
     "start_time": "2024-04-23T21:41:07.037112",
     "status": "completed"
    },
    "tags": []
   },
   "source": [
    "##### labels preparing:"
   ]
  },
  {
   "cell_type": "code",
   "execution_count": 4,
   "id": "12753100",
   "metadata": {
    "execution": {
     "iopub.execute_input": "2024-04-23T21:41:07.062514Z",
     "iopub.status.busy": "2024-04-23T21:41:07.061845Z",
     "iopub.status.idle": "2024-04-23T21:41:07.066644Z",
     "shell.execute_reply": "2024-04-23T21:41:07.065787Z"
    },
    "papermill": {
     "duration": 0.016232,
     "end_time": "2024-04-23T21:41:07.068759",
     "exception": false,
     "start_time": "2024-04-23T21:41:07.052527",
     "status": "completed"
    },
    "tags": []
   },
   "outputs": [],
   "source": [
    "def preprocess_labels(df):\n",
    "    \"\"\"\n",
    "    \n",
    "    \"\"\""
   ]
  },
  {
   "cell_type": "code",
   "execution_count": 5,
   "id": "38698cd8",
   "metadata": {
    "execution": {
     "iopub.execute_input": "2024-04-23T21:41:07.088645Z",
     "iopub.status.busy": "2024-04-23T21:41:07.087975Z",
     "iopub.status.idle": "2024-04-23T21:41:07.093057Z",
     "shell.execute_reply": "2024-04-23T21:41:07.092243Z"
    },
    "papermill": {
     "duration": 0.018615,
     "end_time": "2024-04-23T21:41:07.095880",
     "exception": false,
     "start_time": "2024-04-23T21:41:07.077265",
     "status": "completed"
    },
    "tags": []
   },
   "outputs": [],
   "source": [
    "def prepare_dataset(df):\n",
    "    \"\"\"\n",
    "    \n",
    "    \"\"\"\n",
    "    images = preprocess_images(df)\n",
    "    labels = preprocess_labels(df)\n",
    "    return images, labels"
   ]
  },
  {
   "cell_type": "markdown",
   "id": "27df0e1b",
   "metadata": {
    "papermill": {
     "duration": 0.007644,
     "end_time": "2024-04-23T21:41:07.111715",
     "exception": false,
     "start_time": "2024-04-23T21:41:07.104071",
     "status": "completed"
    },
    "tags": []
   },
   "source": [
    "<hr>"
   ]
  },
  {
   "cell_type": "markdown",
   "id": "003039db",
   "metadata": {
    "papermill": {
     "duration": 0.007746,
     "end_time": "2024-04-23T21:41:07.127416",
     "exception": false,
     "start_time": "2024-04-23T21:41:07.119670",
     "status": "completed"
    },
    "tags": []
   },
   "source": [
    "### Data modeling (The Verifier)"
   ]
  },
  {
   "cell_type": "markdown",
   "id": "4a121ec9",
   "metadata": {
    "papermill": {
     "duration": 0.00762,
     "end_time": "2024-04-23T21:41:07.143435",
     "exception": false,
     "start_time": "2024-04-23T21:41:07.135815",
     "status": "completed"
    },
    "tags": []
   },
   "source": [
    "#### Model Archeticticure:"
   ]
  },
  {
   "cell_type": "markdown",
   "id": "96e2f3d7",
   "metadata": {
    "papermill": {
     "duration": 0.007978,
     "end_time": "2024-04-23T21:41:07.159354",
     "exception": false,
     "start_time": "2024-04-23T21:41:07.151376",
     "status": "completed"
    },
    "tags": []
   },
   "source": [
    "##### Base model (Feature Extracture)"
   ]
  },
  {
   "cell_type": "code",
   "execution_count": 6,
   "id": "550b37d5",
   "metadata": {
    "execution": {
     "iopub.execute_input": "2024-04-23T21:41:07.178158Z",
     "iopub.status.busy": "2024-04-23T21:41:07.177732Z",
     "iopub.status.idle": "2024-04-23T21:41:07.182326Z",
     "shell.execute_reply": "2024-04-23T21:41:07.181200Z"
    },
    "papermill": {
     "duration": 0.016301,
     "end_time": "2024-04-23T21:41:07.184448",
     "exception": false,
     "start_time": "2024-04-23T21:41:07.168147",
     "status": "completed"
    },
    "tags": []
   },
   "outputs": [],
   "source": [
    "def feature_extraction():\n",
    "    \"\"\"\n",
    "    \n",
    "    \"\"\""
   ]
  },
  {
   "cell_type": "markdown",
   "id": "2bfc8689",
   "metadata": {
    "papermill": {
     "duration": 0.007657,
     "end_time": "2024-04-23T21:41:07.200198",
     "exception": false,
     "start_time": "2024-04-23T21:41:07.192541",
     "status": "completed"
    },
    "tags": []
   },
   "source": [
    "#### Recognition model"
   ]
  },
  {
   "cell_type": "code",
   "execution_count": 7,
   "id": "6c57fe5a",
   "metadata": {
    "execution": {
     "iopub.execute_input": "2024-04-23T21:41:07.218312Z",
     "iopub.status.busy": "2024-04-23T21:41:07.217900Z",
     "iopub.status.idle": "2024-04-23T21:41:07.222608Z",
     "shell.execute_reply": "2024-04-23T21:41:07.221385Z"
    },
    "papermill": {
     "duration": 0.017088,
     "end_time": "2024-04-23T21:41:07.225374",
     "exception": false,
     "start_time": "2024-04-23T21:41:07.208286",
     "status": "completed"
    },
    "tags": []
   },
   "outputs": [],
   "source": [
    "def reconition_model(featurres):\n",
    "    \"\"\"\n",
    "    \n",
    "    \"\"\""
   ]
  },
  {
   "cell_type": "markdown",
   "id": "a41ed6d9",
   "metadata": {
    "papermill": {
     "duration": 0.007822,
     "end_time": "2024-04-23T21:41:07.242124",
     "exception": false,
     "start_time": "2024-04-23T21:41:07.234302",
     "status": "completed"
    },
    "tags": []
   },
   "source": [
    "#### Model Training and testing:"
   ]
  },
  {
   "cell_type": "code",
   "execution_count": null,
   "id": "6ed22a95",
   "metadata": {
    "papermill": {
     "duration": 0.007526,
     "end_time": "2024-04-23T21:41:07.257744",
     "exception": false,
     "start_time": "2024-04-23T21:41:07.250218",
     "status": "completed"
    },
    "tags": []
   },
   "outputs": [],
   "source": []
  },
  {
   "cell_type": "markdown",
   "id": "07ac1155",
   "metadata": {
    "papermill": {
     "duration": 0.007933,
     "end_time": "2024-04-23T21:41:07.274284",
     "exception": false,
     "start_time": "2024-04-23T21:41:07.266351",
     "status": "completed"
    },
    "tags": []
   },
   "source": [
    "#### Model Evaluaion metrics:"
   ]
  },
  {
   "cell_type": "code",
   "execution_count": null,
   "id": "751545a9",
   "metadata": {
    "papermill": {
     "duration": 0.008014,
     "end_time": "2024-04-23T21:41:07.290867",
     "exception": false,
     "start_time": "2024-04-23T21:41:07.282853",
     "status": "completed"
    },
    "tags": []
   },
   "outputs": [],
   "source": []
  },
  {
   "cell_type": "markdown",
   "id": "7db391fd",
   "metadata": {
    "papermill": {
     "duration": 0.008203,
     "end_time": "2024-04-23T21:41:07.307175",
     "exception": false,
     "start_time": "2024-04-23T21:41:07.298972",
     "status": "completed"
    },
    "tags": []
   },
   "source": [
    "<hr>"
   ]
  },
  {
   "cell_type": "markdown",
   "id": "8c07297f",
   "metadata": {
    "papermill": {
     "duration": 0.007602,
     "end_time": "2024-04-23T21:41:07.322826",
     "exception": false,
     "start_time": "2024-04-23T21:41:07.315224",
     "status": "completed"
    },
    "tags": []
   },
   "source": [
    "### User Experinece and GUI (The Authenticater)"
   ]
  },
  {
   "cell_type": "markdown",
   "id": "fcba6a87",
   "metadata": {
    "papermill": {
     "duration": 0.007627,
     "end_time": "2024-04-23T21:41:07.338435",
     "exception": false,
     "start_time": "2024-04-23T21:41:07.330808",
     "status": "completed"
    },
    "tags": []
   },
   "source": [
    "#### Image Accuisition (for enrollment)"
   ]
  },
  {
   "cell_type": "code",
   "execution_count": null,
   "id": "d00b49e9",
   "metadata": {
    "papermill": {
     "duration": 0.00777,
     "end_time": "2024-04-23T21:41:07.354258",
     "exception": false,
     "start_time": "2024-04-23T21:41:07.346488",
     "status": "completed"
    },
    "tags": []
   },
   "outputs": [],
   "source": []
  },
  {
   "cell_type": "markdown",
   "id": "88b697a9",
   "metadata": {
    "papermill": {
     "duration": 0.00768,
     "end_time": "2024-04-23T21:41:07.370207",
     "exception": false,
     "start_time": "2024-04-23T21:41:07.362527",
     "status": "completed"
    },
    "tags": []
   },
   "source": [
    "#### Image Accuisition (for authentication)"
   ]
  },
  {
   "cell_type": "code",
   "execution_count": null,
   "id": "e9d06a63",
   "metadata": {
    "papermill": {
     "duration": 0.008139,
     "end_time": "2024-04-23T21:41:07.386768",
     "exception": false,
     "start_time": "2024-04-23T21:41:07.378629",
     "status": "completed"
    },
    "tags": []
   },
   "outputs": [],
   "source": []
  },
  {
   "cell_type": "markdown",
   "id": "faeb5e29",
   "metadata": {
    "papermill": {
     "duration": 0.008243,
     "end_time": "2024-04-23T21:41:07.403895",
     "exception": false,
     "start_time": "2024-04-23T21:41:07.395652",
     "status": "completed"
    },
    "tags": []
   },
   "source": [
    "#### Image Preparing for Recognition"
   ]
  },
  {
   "cell_type": "code",
   "execution_count": 8,
   "id": "0580fc25",
   "metadata": {
    "execution": {
     "iopub.execute_input": "2024-04-23T21:41:07.422772Z",
     "iopub.status.busy": "2024-04-23T21:41:07.421891Z",
     "iopub.status.idle": "2024-04-23T21:41:07.426388Z",
     "shell.execute_reply": "2024-04-23T21:41:07.425516Z"
    },
    "papermill": {
     "duration": 0.016111,
     "end_time": "2024-04-23T21:41:07.428442",
     "exception": false,
     "start_time": "2024-04-23T21:41:07.412331",
     "status": "completed"
    },
    "tags": []
   },
   "outputs": [],
   "source": [
    "def input_image_preprocesisng(image):\n",
    "    \"\"\"\n",
    "    \n",
    "    \"\"\""
   ]
  },
  {
   "cell_type": "markdown",
   "id": "a3441c3a",
   "metadata": {
    "papermill": {
     "duration": 0.008038,
     "end_time": "2024-04-23T21:41:07.509764",
     "exception": false,
     "start_time": "2024-04-23T21:41:07.501726",
     "status": "completed"
    },
    "tags": []
   },
   "source": [
    "#### Model Inference"
   ]
  },
  {
   "cell_type": "code",
   "execution_count": null,
   "id": "5f7d2b23",
   "metadata": {
    "papermill": {
     "duration": 0.00777,
     "end_time": "2024-04-23T21:41:07.525757",
     "exception": false,
     "start_time": "2024-04-23T21:41:07.517987",
     "status": "completed"
    },
    "tags": []
   },
   "outputs": [],
   "source": []
  },
  {
   "cell_type": "markdown",
   "id": "a58387ed",
   "metadata": {
    "papermill": {
     "duration": 0.00858,
     "end_time": "2024-04-23T21:41:07.543476",
     "exception": false,
     "start_time": "2024-04-23T21:41:07.534896",
     "status": "completed"
    },
    "tags": []
   },
   "source": [
    "<hr>"
   ]
  },
  {
   "cell_type": "markdown",
   "id": "d4ea3c54",
   "metadata": {
    "papermill": {
     "duration": 0.007901,
     "end_time": "2024-04-23T21:41:07.559660",
     "exception": false,
     "start_time": "2024-04-23T21:41:07.551759",
     "status": "completed"
    },
    "tags": []
   },
   "source": [
    "## Conclusion"
   ]
  },
  {
   "cell_type": "markdown",
   "id": "5cc215c9",
   "metadata": {
    "papermill": {
     "duration": 0.00783,
     "end_time": "2024-04-23T21:41:07.575703",
     "exception": false,
     "start_time": "2024-04-23T21:41:07.567873",
     "status": "completed"
    },
    "tags": []
   },
   "source": [
    "## Refrences"
   ]
  }
 ],
 "metadata": {
  "kaggle": {
   "accelerator": "none",
   "dataSources": [
    {
     "datasetId": 4865182,
     "sourceId": 8209871,
     "sourceType": "datasetVersion"
    }
   ],
   "isGpuEnabled": false,
   "isInternetEnabled": true,
   "language": "python",
   "sourceType": "notebook"
  },
  "kernelspec": {
   "display_name": "Python 3",
   "language": "python",
   "name": "python3"
  },
  "language_info": {
   "codemirror_mode": {
    "name": "ipython",
    "version": 3
   },
   "file_extension": ".py",
   "mimetype": "text/x-python",
   "name": "python",
   "nbconvert_exporter": "python",
   "pygments_lexer": "ipython3",
   "version": "3.10.13"
  },
  "papermill": {
   "default_parameters": {},
   "duration": 4.33411,
   "end_time": "2024-04-23T21:41:08.002890",
   "environment_variables": {},
   "exception": null,
   "input_path": "__notebook__.ipynb",
   "output_path": "__notebook__.ipynb",
   "parameters": {},
   "start_time": "2024-04-23T21:41:03.668780",
   "version": "2.5.0"
  }
 },
 "nbformat": 4,
 "nbformat_minor": 5
}
